{
 "cells": [
  {
   "cell_type": "markdown",
   "metadata": {},
   "source": [
    "# Data Wrangling with DataFrames Coding Quiz\n",
    "\n",
    "Use this Jupyter notebook to find the answers to the quiz in the previous section. There is an answer key in the next part of the lesson."
   ]
  },
  {
   "cell_type": "code",
   "execution_count": 87,
   "metadata": {},
   "outputs": [],
   "source": [
    "from pyspark.sql.window import Window\n",
    "from pyspark.sql.types import IntegerType\n",
    "from pyspark.sql.functions import sum as Fsum"
   ]
  },
  {
   "cell_type": "code",
   "execution_count": 25,
   "metadata": {},
   "outputs": [],
   "source": [
    "from pyspark import SparkContext\n",
    "from pyspark.sql import SparkSession, functions\n",
    "\n",
    "# TODOS: \n",
    "# 1) import any other libraries you might need\n",
    "# 4) write code to answer the quiz questions \n",
    "\n",
    "# 2) instantiate a Spark session \n",
    "spark = (\n",
    "    SparkSession\n",
    "    .builder\n",
    "    .appName(\"data_wrangling_quiz\")\n",
    "    .getOrCreate()\n",
    ")\n",
    "\n",
    "# 3) read in the data set located at the path \"data/sparkify_log_small.json\"\n",
    "data = spark.read.load(\"data/sparkify_log_small.json\", format=\"json\")"
   ]
  },
  {
   "cell_type": "code",
   "execution_count": 26,
   "metadata": {},
   "outputs": [
    {
     "name": "stdout",
     "output_type": "stream",
     "text": [
      "root\n",
      " |-- artist: string (nullable = true)\n",
      " |-- auth: string (nullable = true)\n",
      " |-- firstName: string (nullable = true)\n",
      " |-- gender: string (nullable = true)\n",
      " |-- itemInSession: long (nullable = true)\n",
      " |-- lastName: string (nullable = true)\n",
      " |-- length: double (nullable = true)\n",
      " |-- level: string (nullable = true)\n",
      " |-- location: string (nullable = true)\n",
      " |-- method: string (nullable = true)\n",
      " |-- page: string (nullable = true)\n",
      " |-- registration: long (nullable = true)\n",
      " |-- sessionId: long (nullable = true)\n",
      " |-- song: string (nullable = true)\n",
      " |-- status: long (nullable = true)\n",
      " |-- ts: long (nullable = true)\n",
      " |-- userAgent: string (nullable = true)\n",
      " |-- userId: string (nullable = true)\n",
      "\n"
     ]
    }
   ],
   "source": [
    "data.printSchema()"
   ]
  },
  {
   "cell_type": "code",
   "execution_count": 27,
   "metadata": {},
   "outputs": [],
   "source": [
    "data.createOrReplaceTempView(\"userLog\")"
   ]
  },
  {
   "cell_type": "markdown",
   "metadata": {},
   "source": [
    "# Question 1\n",
    "\n",
    "Which page did user id \"\" (empty string) NOT visit?"
   ]
  },
  {
   "cell_type": "code",
   "execution_count": 10,
   "metadata": {},
   "outputs": [
    {
     "name": "stdout",
     "output_type": "stream",
     "text": [
      "+-----+-----+\n",
      "| page|count|\n",
      "+-----+-----+\n",
      "| Home|  187|\n",
      "|About|   15|\n",
      "|Login|  126|\n",
      "| Help|    8|\n",
      "+-----+-----+\n",
      "\n"
     ]
    }
   ],
   "source": [
    "# TODO: write your code to answer question 1\n",
    "data.filter(data[\"userId\"] == \"\").groupBy(\"page\").count().show()"
   ]
  },
  {
   "cell_type": "code",
   "execution_count": 78,
   "metadata": {},
   "outputs": [
    {
     "name": "stdout",
     "output_type": "stream",
     "text": [
      "+----------------+-----+\n",
      "|            page|count|\n",
      "+----------------+-----+\n",
      "|Submit Downgrade|    1|\n",
      "|            Home|  939|\n",
      "|       Downgrade|   75|\n",
      "|          Logout|  100|\n",
      "|   Save Settings|   11|\n",
      "|           About|   28|\n",
      "|        Settings|   59|\n",
      "|        NextSong| 8347|\n",
      "|            Help|   50|\n",
      "|         Upgrade|   32|\n",
      "|           Error|   12|\n",
      "|  Submit Upgrade|   10|\n",
      "+----------------+-----+\n",
      "\n"
     ]
    }
   ],
   "source": [
    "data.filter(data[\"userId\"] != \"\").groupBy(\"page\").count().show()"
   ]
  },
  {
   "cell_type": "code",
   "execution_count": 16,
   "metadata": {},
   "outputs": [
    {
     "name": "stdout",
     "output_type": "stream",
     "text": [
      "+-----+---------+\n",
      "| page|num_visit|\n",
      "+-----+---------+\n",
      "| Home|      187|\n",
      "|About|       15|\n",
      "|Login|      126|\n",
      "| Help|        8|\n",
      "+-----+---------+\n",
      "\n"
     ]
    }
   ],
   "source": [
    "spark.sql(\n",
    "    \"\"\"\n",
    "    SELECT\n",
    "        page,\n",
    "        COUNT(*) AS num_visit\n",
    "    FROM\n",
    "        userLog\n",
    "    WHERE\n",
    "        userId = ''\n",
    "    GROUP BY 1\n",
    "    \"\"\"\n",
    ").show()"
   ]
  },
  {
   "cell_type": "markdown",
   "metadata": {},
   "source": [
    "# Question 2 - Reflect\n",
    "\n",
    "What type of user does the empty string user id most likely refer to?\n"
   ]
  },
  {
   "cell_type": "code",
   "execution_count": 2,
   "metadata": {},
   "outputs": [],
   "source": [
    "# TODO: use this space to explore the behavior of the user with an empty string\n",
    "# unregistered visitors"
   ]
  },
  {
   "cell_type": "markdown",
   "metadata": {},
   "source": [
    "# Question 3\n",
    "\n",
    "How many female users do we have in the data set?"
   ]
  },
  {
   "cell_type": "code",
   "execution_count": 31,
   "metadata": {},
   "outputs": [
    {
     "name": "stdout",
     "output_type": "stream",
     "text": [
      "+------+----------------------+\n",
      "|gender|count(DISTINCT userId)|\n",
      "+------+----------------------+\n",
      "|     F|                   462|\n",
      "|  null|                     1|\n",
      "|     M|                   501|\n",
      "+------+----------------------+\n",
      "\n",
      "CPU times: user 6.01 ms, sys: 0 ns, total: 6.01 ms\n",
      "Wall time: 4.68 s\n"
     ]
    }
   ],
   "source": [
    "%%time\n",
    "data.groupBy(\"gender\").agg(countDistinct(\"userId\")).show()"
   ]
  },
  {
   "cell_type": "code",
   "execution_count": 33,
   "metadata": {},
   "outputs": [
    {
     "name": "stdout",
     "output_type": "stream",
     "text": [
      "+------+---------+\n",
      "|gender|num_users|\n",
      "+------+---------+\n",
      "|     F|      462|\n",
      "|  null|        1|\n",
      "|     M|      501|\n",
      "+------+---------+\n",
      "\n",
      "CPU times: user 2.48 ms, sys: 0 ns, total: 2.48 ms\n",
      "Wall time: 4.12 s\n"
     ]
    }
   ],
   "source": [
    "%%time\n",
    "# TODO: write your code to answer question 3\n",
    "spark.sql(\"\"\"\n",
    "    SELECT\n",
    "        gender,\n",
    "        COUNT(DISTINCT userId) as num_users\n",
    "    FROM\n",
    "        userLog\n",
    "    GROUP BY 1\n",
    "\"\"\").show()"
   ]
  },
  {
   "cell_type": "markdown",
   "metadata": {},
   "source": [
    "# Question 4\n",
    "\n",
    "How many songs were played from the most played artist?"
   ]
  },
  {
   "cell_type": "code",
   "execution_count": 34,
   "metadata": {},
   "outputs": [
    {
     "name": "stdout",
     "output_type": "stream",
     "text": [
      "root\n",
      " |-- artist: string (nullable = true)\n",
      " |-- auth: string (nullable = true)\n",
      " |-- firstName: string (nullable = true)\n",
      " |-- gender: string (nullable = true)\n",
      " |-- itemInSession: long (nullable = true)\n",
      " |-- lastName: string (nullable = true)\n",
      " |-- length: double (nullable = true)\n",
      " |-- level: string (nullable = true)\n",
      " |-- location: string (nullable = true)\n",
      " |-- method: string (nullable = true)\n",
      " |-- page: string (nullable = true)\n",
      " |-- registration: long (nullable = true)\n",
      " |-- sessionId: long (nullable = true)\n",
      " |-- song: string (nullable = true)\n",
      " |-- status: long (nullable = true)\n",
      " |-- ts: long (nullable = true)\n",
      " |-- userAgent: string (nullable = true)\n",
      " |-- userId: string (nullable = true)\n",
      "\n"
     ]
    }
   ],
   "source": [
    "data.printSchema()"
   ]
  },
  {
   "cell_type": "code",
   "execution_count": 47,
   "metadata": {},
   "outputs": [
    {
     "name": "stdout",
     "output_type": "stream",
     "text": [
      "+--------------------+-----+\n",
      "|              artist|count|\n",
      "+--------------------+-----+\n",
      "|            Coldplay|   68|\n",
      "|       Kings Of Leon|   57|\n",
      "|Florence + The Ma...|   51|\n",
      "|            BjÃÂ¶rk|   42|\n",
      "|       Dwight Yoakam|   40|\n",
      "|      The Black Keys|   39|\n",
      "|       Justin Bieber|   37|\n",
      "|         OneRepublic|   34|\n",
      "|                Muse|   33|\n",
      "|        Jack Johnson|   32|\n",
      "|        Taylor Swift|   28|\n",
      "|           Radiohead|   28|\n",
      "|          Nickelback|   27|\n",
      "|Barry Tuckwell/Ac...|   27|\n",
      "|           Metallica|   26|\n",
      "|               Train|   25|\n",
      "|          Lily Allen|   25|\n",
      "|     Alliance Ethnik|   24|\n",
      "|           Daft Punk|   24|\n",
      "|Red Hot Chili Pep...|   23|\n",
      "+--------------------+-----+\n",
      "only showing top 20 rows\n",
      "\n"
     ]
    }
   ],
   "source": [
    "(\n",
    "    data\n",
    "    .groupBy(\"artist\")\n",
    "    .agg(countDistinct(\"sessionId\").alias(\"count\"))\n",
    "    .filter(~data[\"artist\"].isNull())\n",
    "    .sort(desc(\"count\"))\n",
    "    .show()\n",
    ")"
   ]
  },
  {
   "cell_type": "code",
   "execution_count": 45,
   "metadata": {},
   "outputs": [
    {
     "name": "stdout",
     "output_type": "stream",
     "text": [
      "+-----------+\n",
      "|count(song)|\n",
      "+-----------+\n",
      "|         83|\n",
      "+-----------+\n",
      "\n"
     ]
    }
   ],
   "source": [
    "data.filter(data[\"artist\"] == \"Coldplay\").agg(count(\"song\")).show()"
   ]
  },
  {
   "cell_type": "code",
   "execution_count": 53,
   "metadata": {},
   "outputs": [
    {
     "name": "stdout",
     "output_type": "stream",
     "text": [
      "+--------+\n",
      "|  artist|\n",
      "+--------+\n",
      "|Coldplay|\n",
      "+--------+\n",
      "\n"
     ]
    }
   ],
   "source": [
    "spark.sql(\"\"\"\n",
    "        SELECT\n",
    "            artist\n",
    "        FROM \n",
    "            (SELECT\n",
    "                artist,\n",
    "                COUNT(DISTINCT sessionId) AS num_sessions\n",
    "            FROM\n",
    "                userLog\n",
    "            WHERE\n",
    "                artist <> 'null'\n",
    "            GROUP BY 1\n",
    "            ORDER BY 2 DESC)\n",
    "        LIMIT 1\n",
    "\"\"\").show()"
   ]
  },
  {
   "cell_type": "code",
   "execution_count": 80,
   "metadata": {},
   "outputs": [
    {
     "name": "stdout",
     "output_type": "stream",
     "text": [
      "+--------------------+-----------+\n",
      "|              artist|artistCount|\n",
      "+--------------------+-----------+\n",
      "|            Coldplay|         83|\n",
      "|       Kings Of Leon|         69|\n",
      "|Florence + The Ma...|         52|\n",
      "|            BjÃÂ¶rk|         46|\n",
      "|       Dwight Yoakam|         45|\n",
      "+--------------------+-----------+\n",
      "only showing top 5 rows\n",
      "\n"
     ]
    }
   ],
   "source": [
    "(\n",
    "    data\n",
    "    .filter(data.page == \"NextSong\")\n",
    "    .select(\"artist\")\n",
    "    .groupBy(\"artist\")\n",
    "    .agg(count(\"artist\").alias(\"artistCount\"))\n",
    "    .sort(desc(\"artistCount\"))\n",
    "    .show(5)\n",
    ")"
   ]
  },
  {
   "cell_type": "code",
   "execution_count": null,
   "metadata": {},
   "outputs": [],
   "source": [
    "# TODO: write your code to answer question 4\n"
   ]
  },
  {
   "cell_type": "markdown",
   "metadata": {},
   "source": [
    "# Question 5 (challenge)\n",
    "\n",
    "How many songs do users listen to on average between visiting our home page? Please round your answer to the closest integer.\n",
    "\n"
   ]
  },
  {
   "cell_type": "code",
   "execution_count": 56,
   "metadata": {},
   "outputs": [
    {
     "name": "stdout",
     "output_type": "stream",
     "text": [
      "root\n",
      " |-- artist: string (nullable = true)\n",
      " |-- auth: string (nullable = true)\n",
      " |-- firstName: string (nullable = true)\n",
      " |-- gender: string (nullable = true)\n",
      " |-- itemInSession: long (nullable = true)\n",
      " |-- lastName: string (nullable = true)\n",
      " |-- length: double (nullable = true)\n",
      " |-- level: string (nullable = true)\n",
      " |-- location: string (nullable = true)\n",
      " |-- method: string (nullable = true)\n",
      " |-- page: string (nullable = true)\n",
      " |-- registration: long (nullable = true)\n",
      " |-- sessionId: long (nullable = true)\n",
      " |-- song: string (nullable = true)\n",
      " |-- status: long (nullable = true)\n",
      " |-- ts: long (nullable = true)\n",
      " |-- userAgent: string (nullable = true)\n",
      " |-- userId: string (nullable = true)\n",
      "\n"
     ]
    }
   ],
   "source": [
    "data.printSchema()"
   ]
  },
  {
   "cell_type": "code",
   "execution_count": 82,
   "metadata": {},
   "outputs": [],
   "source": [
    "function = udf(lambda ishome: int(ishome == \"Home\"), IntegerType())"
   ]
  },
  {
   "cell_type": "code",
   "execution_count": 84,
   "metadata": {},
   "outputs": [],
   "source": [
    "user_window = (\n",
    "    Window\n",
    "    .partitionBy(\"userId\")\n",
    "    .orderBy(desc(\"ts\"))\n",
    "    .rangeBetween(Window.unboundedPreceding, 0)\n",
    ")"
   ]
  },
  {
   "cell_type": "code",
   "execution_count": 88,
   "metadata": {},
   "outputs": [],
   "source": [
    "cusum = (\n",
    "    data\n",
    "    .filter((df.page == \"NextSong\") | (df.page == \"Home\"))\n",
    "    .select(\"userId\", \"page\", \"ts\")\n",
    "    .withColumn(\"homeVisit\", function(\"page\"))\n",
    "    .withColumn(\"period\", Fsum(\"homeVisit\").over(user_window))\n",
    ")"
   ]
  },
  {
   "cell_type": "code",
   "execution_count": 93,
   "metadata": {},
   "outputs": [
    {
     "name": "stdout",
     "output_type": "stream",
     "text": [
      "+------+--------+-------------+---------+------+\n",
      "|userId|    page|           ts|homeVisit|period|\n",
      "+------+--------+-------------+---------+------+\n",
      "|  1046|NextSong|1513842410284|        0|     0|\n",
      "|  1046|NextSong|1513842186284|        0|     0|\n",
      "|  1046|NextSong|1513841947284|        0|     0|\n",
      "|  1046|NextSong|1513841710284|        0|     0|\n",
      "|  1046|NextSong|1513841519284|        0|     0|\n",
      "|  1046|NextSong|1513841332284|        0|     0|\n",
      "|  1046|NextSong|1513841100284|        0|     0|\n",
      "|  1046|NextSong|1513840929284|        0|     0|\n",
      "|  1046|NextSong|1513840740284|        0|     0|\n",
      "|  1046|NextSong|1513840267284|        0|     0|\n",
      "|  1046|NextSong|1513840086284|        0|     0|\n",
      "|  1046|NextSong|1513839785284|        0|     0|\n",
      "|  1046|NextSong|1513839573284|        0|     0|\n",
      "|  1046|NextSong|1513839321284|        0|     0|\n",
      "|  1046|NextSong|1513839014284|        0|     0|\n",
      "|  1046|NextSong|1513838520284|        0|     0|\n",
      "|  1046|NextSong|1513838300284|        0|     0|\n",
      "|  1046|    Home|1513838155284|        1|     1|\n",
      "|  1046|NextSong|1513838080284|        0|     1|\n",
      "|  1046|NextSong|1513837887284|        0|     1|\n",
      "|  1046|NextSong|1513837660284|        0|     1|\n",
      "|  1046|    Home|1513837636284|        1|     2|\n",
      "|  1046|NextSong|1513722161284|        0|     2|\n",
      "|  1046|NextSong|1513721976284|        0|     2|\n",
      "|  1046|NextSong|1513721808284|        0|     2|\n",
      "|  1046|NextSong|1513721591284|        0|     2|\n",
      "|  1046|NextSong|1513721310284|        0|     2|\n",
      "|  1046|NextSong|1513721104284|        0|     2|\n",
      "|  1046|NextSong|1513720872284|        0|     2|\n",
      "+------+--------+-------------+---------+------+\n",
      "\n"
     ]
    }
   ],
   "source": [
    "cusum.filter(cusum.userId == \"1046\").show(50)"
   ]
  },
  {
   "cell_type": "code",
   "execution_count": 99,
   "metadata": {},
   "outputs": [
    {
     "name": "stdout",
     "output_type": "stream",
     "text": [
      "+------+------+-------------+\n",
      "|userId|period|count(period)|\n",
      "+------+------+-------------+\n",
      "|  1046|     0|           17|\n",
      "|  1046|     1|            3|\n",
      "|  1046|     2|            7|\n",
      "+------+------+-------------+\n",
      "\n"
     ]
    }
   ],
   "source": [
    "(\n",
    "    cusum\n",
    "    .filter((cusum.page == \"NextSong\") & (cusum.userId == \"1046\"))\n",
    "    .groupBy(\"userId\", \"period\")\n",
    "    .agg({\"period\": \"count\"})\n",
    "#     .agg({\"count(period)\": \"avg\"})\n",
    ").show()"
   ]
  },
  {
   "cell_type": "code",
   "execution_count": 98,
   "metadata": {},
   "outputs": [
    {
     "name": "stdout",
     "output_type": "stream",
     "text": [
      "+------------------+\n",
      "|avg(count(period))|\n",
      "+------------------+\n",
      "| 6.898347107438017|\n",
      "+------------------+\n",
      "\n"
     ]
    }
   ],
   "source": [
    "(\n",
    "    cusum\n",
    "    .filter(cusum.page == \"NextSong\")\n",
    "    .groupBy(\"userId\", \"period\")\n",
    "    .agg({\"period\": \"count\"})\n",
    "    .agg({\"count(period)\": \"avg\"})\n",
    ").show()"
   ]
  },
  {
   "cell_type": "code",
   "execution_count": null,
   "metadata": {},
   "outputs": [],
   "source": []
  },
  {
   "cell_type": "code",
   "execution_count": 70,
   "metadata": {},
   "outputs": [
    {
     "name": "stdout",
     "output_type": "stream",
     "text": [
      "+------+--------+--------------------+---------+\n",
      "|userId|    page|                song|sessionId|\n",
      "+------+--------+--------------------+---------+\n",
      "|  1046|NextSong|Christmas Tears W...|     5132|\n",
      "|  1046|NextSong|  Be Wary Of A Woman|     5132|\n",
      "|  1046|NextSong|   Public Enemy No.1|     5132|\n",
      "|  1046|NextSong|Reign Of The Tyrants|     5132|\n",
      "|  1046|NextSong|      Father And Son|     5132|\n",
      "|  1046|NextSong|               No. 5|     5132|\n",
      "|  1046|NextSong|           Seventeen|     5132|\n",
      "|  1046|    Home|                null|     5786|\n",
      "|  1046|NextSong|          War on war|     5786|\n",
      "|  1046|NextSong|   Killermont Street|     5786|\n",
      "|  1046|NextSong|        Black & Blue|     5786|\n",
      "|  1046|  Logout|                null|     5786|\n",
      "|  1046|    Home|                null|     5786|\n",
      "|  1046|NextSong|     Heads Will Roll|     5786|\n",
      "|  1046|NextSong|Bleed It Out [Liv...|     5786|\n",
      "|  1046|NextSong|              Clocks|     5786|\n",
      "|  1046|NextSong|           Love Rain|     5786|\n",
      "|  1046|NextSong|Ry Ry's Song (Alb...|     5786|\n",
      "|  1046|NextSong|   The Invisible Man|     5786|\n",
      "|  1046|NextSong|Catch You Baby (S...|     5786|\n",
      "|  1046|NextSong|   Ask The Mountains|     5786|\n",
      "|  1046|NextSong|Given Up (Album V...|     5786|\n",
      "|  1046|NextSong|         El Cuatrero|     5786|\n",
      "|  1046|NextSong|        Hero/Heroine|     5786|\n",
      "|  1046|NextSong|              Spring|     5786|\n",
      "|  1046|NextSong|         Rising Moon|     5786|\n",
      "|  1046|NextSong|   Tough Little Boys|     5786|\n",
      "|  1046|NextSong|Qu'Est-Ce Que T'E...|     5786|\n",
      "|  1046|NextSong|             Secrets|     5786|\n",
      "|  1046|NextSong|       Under The Gun|     5786|\n",
      "+------+--------+--------------------+---------+\n",
      "\n"
     ]
    }
   ],
   "source": [
    "df = data.filter(data[\"userId\"] == 1046)\n",
    "df.select(df.userId, df.page, df.song, df.sessionId).show(50)"
   ]
  },
  {
   "cell_type": "code",
   "execution_count": 76,
   "metadata": {},
   "outputs": [
    {
     "name": "stdout",
     "output_type": "stream",
     "text": [
      "+------+--------+--------------------+---------+\n",
      "|userId|    page|                song|sessionId|\n",
      "+------+--------+--------------------+---------+\n",
      "|   597|    Home|                null|     3689|\n",
      "|   597|NextSong|Sheebeg And Sheemore|     3689|\n",
      "|   597|NextSong|Quelqu'un M'a Dit...|     3689|\n",
      "+------+--------+--------------------+---------+\n",
      "\n"
     ]
    }
   ],
   "source": [
    "df = data.filter(data[\"userId\"] == 597)\n",
    "df.select(df.userId, df.page, df.song, df.sessionId).show(50)"
   ]
  },
  {
   "cell_type": "code",
   "execution_count": null,
   "metadata": {},
   "outputs": [],
   "source": [
    "# TODO: write your code to answer question 5"
   ]
  }
 ],
 "metadata": {
  "kernelspec": {
   "display_name": "Python 3",
   "language": "python",
   "name": "python3"
  },
  "language_info": {
   "codemirror_mode": {
    "name": "ipython",
    "version": 3
   },
   "file_extension": ".py",
   "mimetype": "text/x-python",
   "name": "python",
   "nbconvert_exporter": "python",
   "pygments_lexer": "ipython3",
   "version": "3.6.3"
  }
 },
 "nbformat": 4,
 "nbformat_minor": 2
}
