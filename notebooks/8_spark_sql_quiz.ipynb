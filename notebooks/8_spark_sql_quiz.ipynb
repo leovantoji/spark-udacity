{
 "cells": [
  {
   "cell_type": "markdown",
   "metadata": {},
   "source": [
    "# Data Wrangling with Spark SQL Quiz\n",
    "\n",
    "This quiz uses the same dataset and most of the same questions from the earlier \"Quiz - Data Wrangling with Data Frames Jupyter Notebook.\" For this quiz, however, use Spark SQL instead of Spark Data Frames."
   ]
  },
  {
   "cell_type": "code",
   "execution_count": 14,
   "metadata": {},
   "outputs": [],
   "source": [
    "from pyspark.sql.functions import udf\n",
    "from pyspark.sql.types import StringType\n",
    "from pyspark.sql.types import IntegerType\n",
    "from pyspark.sql.functions import desc\n",
    "from pyspark.sql.functions import asc\n",
    "from pyspark.sql.functions import sum as Fsum\n",
    "from pyspark.sql.window import Window"
   ]
  },
  {
   "cell_type": "code",
   "execution_count": 2,
   "metadata": {},
   "outputs": [],
   "source": [
    "from pyspark.sql import SparkSession\n",
    "\n",
    "# TODOS: \n",
    "# 1) import any other libraries you might need\n",
    "# 2) instantiate a Spark session \n",
    "spark = (\n",
    "    SparkSession\n",
    "    .builder\n",
    "    .appName(\"wrangling\")\n",
    "    .getOrCreate()\n",
    ")\n",
    "\n",
    "# 3) read in the data set located at the path \"data/sparkify_log_small.json\"\n",
    "data = spark.read.load(\"data/sparkify_log_small.json\", format=\"json\")\n",
    "\n",
    "# 4) create a view to use with your SQL queries\n",
    "data.createOrReplaceTempView(\"userLog\")\n",
    "\n",
    "# 5) write code to answer the quiz questions "
   ]
  },
  {
   "cell_type": "markdown",
   "metadata": {},
   "source": [
    "# Question 1\n",
    "\n",
    "Which page did user id \"\"(empty string) NOT visit?"
   ]
  },
  {
   "cell_type": "code",
   "execution_count": 4,
   "metadata": {},
   "outputs": [
    {
     "name": "stdout",
     "output_type": "stream",
     "text": [
      "+----------------+\n",
      "|            page|\n",
      "+----------------+\n",
      "|Submit Downgrade|\n",
      "|       Downgrade|\n",
      "|          Logout|\n",
      "|   Save Settings|\n",
      "|        Settings|\n",
      "|        NextSong|\n",
      "|         Upgrade|\n",
      "|           Error|\n",
      "|  Submit Upgrade|\n",
      "+----------------+\n",
      "\n"
     ]
    }
   ],
   "source": [
    "# TODO: write your code to answer question 1\n",
    "spark.sql(\"\"\"\n",
    "    SELECT\n",
    "        DISTINCT page\n",
    "    FROM\n",
    "        userLog\n",
    "    WHERE\n",
    "        page NOT IN (\n",
    "            SELECT\n",
    "                DISTINCT page\n",
    "            FROM\n",
    "                userLog\n",
    "            WHERE\n",
    "                userId = ''\n",
    "        )\n",
    "\"\"\").show()"
   ]
  },
  {
   "cell_type": "markdown",
   "metadata": {},
   "source": [
    "# Question 2 - Reflect\n",
    "\n",
    "Why might you prefer to use SQL over data frames? Why might you prefer data frames over SQL?"
   ]
  },
  {
   "cell_type": "markdown",
   "metadata": {},
   "source": [
    "# Question 3\n",
    "\n",
    "How many female users do we have in the data set?"
   ]
  },
  {
   "cell_type": "code",
   "execution_count": 6,
   "metadata": {},
   "outputs": [
    {
     "name": "stdout",
     "output_type": "stream",
     "text": [
      "+----------------------+\n",
      "|count(DISTINCT userId)|\n",
      "+----------------------+\n",
      "|                   462|\n",
      "+----------------------+\n",
      "\n"
     ]
    }
   ],
   "source": [
    "# TODO: write your code to answer question 3\n",
    "spark.sql(\"\"\"\n",
    "    SELECT\n",
    "        COUNT(DISTINCT userId)\n",
    "    FROM\n",
    "        userLog\n",
    "    WHERE\n",
    "        gender = \"F\"\n",
    "\"\"\").show()"
   ]
  },
  {
   "cell_type": "markdown",
   "metadata": {},
   "source": [
    "# Question 4\n",
    "\n",
    "How many songs were played from the most played artist?"
   ]
  },
  {
   "cell_type": "code",
   "execution_count": 10,
   "metadata": {},
   "outputs": [
    {
     "name": "stdout",
     "output_type": "stream",
     "text": [
      "+--------+-----------+\n",
      "|  artist|count(page)|\n",
      "+--------+-----------+\n",
      "|Coldplay|         83|\n",
      "+--------+-----------+\n",
      "\n"
     ]
    }
   ],
   "source": [
    "# TODO: write your code to answer question 4\n",
    "spark.sql(\"\"\"\n",
    "    SELECT\n",
    "        artist,\n",
    "        COUNT(page)\n",
    "    FROM\n",
    "        userLog\n",
    "    WHERE\n",
    "        page = \"NextSong\"\n",
    "    GROUP BY 1\n",
    "    ORDER BY 2 DESC\n",
    "    LIMIT 1\n",
    "\"\"\").show()"
   ]
  },
  {
   "cell_type": "markdown",
   "metadata": {},
   "source": [
    "# Question 5 (challenge)\n",
    "\n",
    "How many songs do users listen to on average between visiting our home page? Please round your answer to the closest integer."
   ]
  },
  {
   "cell_type": "code",
   "execution_count": 24,
   "metadata": {},
   "outputs": [
    {
     "name": "stdout",
     "output_type": "stream",
     "text": [
      "+-----------------+\n",
      "|     avg(results)|\n",
      "+-----------------+\n",
      "|6.898347107438017|\n",
      "+-----------------+\n",
      "\n"
     ]
    }
   ],
   "source": [
    "spark.sql(\"\"\"\n",
    "    WITH isHome AS (\n",
    "        SELECT\n",
    "            userId,\n",
    "            page,\n",
    "            ts,\n",
    "            CASE WHEN page = 'Home' THEN 1 ELSE 0 END AS is_home\n",
    "        FROM\n",
    "            userLog\n",
    "        WHERE\n",
    "            page IN ('NextSong', 'Home')\n",
    "    ),\n",
    "    \n",
    "    cusum AS (\n",
    "        SELECT\n",
    "            *,\n",
    "            SUM(is_home) OVER (PARTITION BY userId ORDER BY ts DESC) AS period\n",
    "        FROM\n",
    "            isHome\n",
    "    ),\n",
    "    \n",
    "    counts AS (\n",
    "        SELECT\n",
    "            userId,\n",
    "            period,\n",
    "            COUNT(*) AS results\n",
    "        FROM\n",
    "            cusum\n",
    "        WHERE\n",
    "            page = 'NextSong'\n",
    "        GROUP BY 1, 2\n",
    "    )\n",
    "    \n",
    "    SELECT\n",
    "        AVG(results)\n",
    "    FROM \n",
    "        counts\n",
    "\"\"\").show()"
   ]
  }
 ],
 "metadata": {
  "kernelspec": {
   "display_name": "Python 3",
   "language": "python",
   "name": "python3"
  },
  "language_info": {
   "codemirror_mode": {
    "name": "ipython",
    "version": 3
   },
   "file_extension": ".py",
   "mimetype": "text/x-python",
   "name": "python",
   "nbconvert_exporter": "python",
   "pygments_lexer": "ipython3",
   "version": "3.6.3"
  }
 },
 "nbformat": 4,
 "nbformat_minor": 2
}
